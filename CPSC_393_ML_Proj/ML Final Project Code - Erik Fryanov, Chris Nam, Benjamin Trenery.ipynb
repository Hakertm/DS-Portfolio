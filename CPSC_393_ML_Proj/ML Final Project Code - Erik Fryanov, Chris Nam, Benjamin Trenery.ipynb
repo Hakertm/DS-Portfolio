{
  "nbformat": 4,
  "nbformat_minor": 0,
  "metadata": {
    "colab": {
      "provenance": [],
      "collapsed_sections": [
        "9lQfJGn6Aq7P",
        "ahg5u5JaBDjj",
        "eND3d7ysRy0o",
        "5VM-GjH5Rq7N"
      ]
    },
    "kernelspec": {
      "name": "python3",
      "display_name": "Python 3"
    },
    "language_info": {
      "name": "python"
    }
  },
  "cells": [
    {
      "cell_type": "code",
      "execution_count": null,
      "metadata": {
        "id": "exZbVpn6PLuY"
      },
      "outputs": [],
      "source": [
        "##### Imports\n",
        "import pandas as pd\n",
        "import numpy as np\n",
        "import matplotlib.pyplot as plt\n",
        "from plotnine import *\n",
        "\n",
        "from sklearn.preprocessing import StandardScaler\n",
        "from sklearn.preprocessing import LabelEncoder\n",
        "from sklearn.model_selection import train_test_split\n",
        "\n",
        "import tensorflow as tf\n",
        "from tensorflow import keras\n",
        "from keras import layers\n",
        "from keras import regularizers\n",
        "from keras.utils import to_categorical\n",
        "\n",
        "from sklearn.linear_model import LogisticRegression\n",
        "from sklearn.metrics import accuracy_score\n"
      ]
    },
    {
      "cell_type": "markdown",
      "source": [
        "# Preprocessing + Data Exploration"
      ],
      "metadata": {
        "id": "YWmOXMNvAtis"
      }
    },
    {
      "cell_type": "markdown",
      "source": [
        "Loading Data + Data Exploration"
      ],
      "metadata": {
        "id": "-opFYtIVwl4W"
      }
    },
    {
      "cell_type": "code",
      "source": [
        "##### Load Data\n",
        "# https://www.kaggle.com/datasets/nelgiriyewithana/credit-card-fraud-detection-dataset-2023\n",
        "credit = pd.read_csv(\"creditcard_2023.csv\")\n",
        "\n",
        "# Check for missing values and drop them\n",
        "# print(credit.isnull().sum())\n",
        "credit = credit.dropna()\n",
        "# print(credit.isnull().sum())\n",
        "\n",
        "# Quick Exploration\n",
        "print(credit.shape)\n",
        "credit.head()\n"
      ],
      "metadata": {
        "id": "itYU-RbZRQXl",
        "colab": {
          "base_uri": "https://localhost:8080/",
          "height": 273
        },
        "outputId": "fa27b7b4-c00b-46c2-8837-5881faa941b2"
      },
      "execution_count": null,
      "outputs": [
        {
          "output_type": "stream",
          "name": "stdout",
          "text": [
            "(568630, 31)\n"
          ]
        },
        {
          "output_type": "execute_result",
          "data": {
            "text/plain": [
              "   id        V1        V2        V3        V4        V5        V6        V7  \\\n",
              "0   0 -0.260648 -0.469648  2.496266 -0.083724  0.129681  0.732898  0.519014   \n",
              "1   1  0.985100 -0.356045  0.558056 -0.429654  0.277140  0.428605  0.406466   \n",
              "2   2 -0.260272 -0.949385  1.728538 -0.457986  0.074062  1.419481  0.743511   \n",
              "3   3 -0.152152 -0.508959  1.746840 -1.090178  0.249486  1.143312  0.518269   \n",
              "4   4 -0.206820 -0.165280  1.527053 -0.448293  0.106125  0.530549  0.658849   \n",
              "\n",
              "         V8        V9  ...       V21       V22       V23       V24       V25  \\\n",
              "0 -0.130006  0.727159  ... -0.110552  0.217606 -0.134794  0.165959  0.126280   \n",
              "1 -0.133118  0.347452  ... -0.194936 -0.605761  0.079469 -0.577395  0.190090   \n",
              "2 -0.095576 -0.261297  ... -0.005020  0.702906  0.945045 -1.154666 -0.605564   \n",
              "3 -0.065130 -0.205698  ... -0.146927 -0.038212 -0.214048 -1.893131  1.003963   \n",
              "4 -0.212660  1.049921  ... -0.106984  0.729727 -0.161666  0.312561 -0.414116   \n",
              "\n",
              "        V26       V27       V28    Amount  Class  \n",
              "0 -0.434824 -0.081230 -0.151045  17982.10      0  \n",
              "1  0.296503 -0.248052 -0.064512   6531.37      0  \n",
              "2 -0.312895 -0.300258 -0.244718   2513.54      0  \n",
              "3 -0.515950 -0.165316  0.048424   5384.44      0  \n",
              "4  1.071126  0.023712  0.419117  14278.97      0  \n",
              "\n",
              "[5 rows x 31 columns]"
            ],
            "text/html": [
              "\n",
              "  <div id=\"df-8bff790f-ee94-4049-a1d4-d69cf3af2a30\" class=\"colab-df-container\">\n",
              "    <div>\n",
              "<style scoped>\n",
              "    .dataframe tbody tr th:only-of-type {\n",
              "        vertical-align: middle;\n",
              "    }\n",
              "\n",
              "    .dataframe tbody tr th {\n",
              "        vertical-align: top;\n",
              "    }\n",
              "\n",
              "    .dataframe thead th {\n",
              "        text-align: right;\n",
              "    }\n",
              "</style>\n",
              "<table border=\"1\" class=\"dataframe\">\n",
              "  <thead>\n",
              "    <tr style=\"text-align: right;\">\n",
              "      <th></th>\n",
              "      <th>id</th>\n",
              "      <th>V1</th>\n",
              "      <th>V2</th>\n",
              "      <th>V3</th>\n",
              "      <th>V4</th>\n",
              "      <th>V5</th>\n",
              "      <th>V6</th>\n",
              "      <th>V7</th>\n",
              "      <th>V8</th>\n",
              "      <th>V9</th>\n",
              "      <th>...</th>\n",
              "      <th>V21</th>\n",
              "      <th>V22</th>\n",
              "      <th>V23</th>\n",
              "      <th>V24</th>\n",
              "      <th>V25</th>\n",
              "      <th>V26</th>\n",
              "      <th>V27</th>\n",
              "      <th>V28</th>\n",
              "      <th>Amount</th>\n",
              "      <th>Class</th>\n",
              "    </tr>\n",
              "  </thead>\n",
              "  <tbody>\n",
              "    <tr>\n",
              "      <th>0</th>\n",
              "      <td>0</td>\n",
              "      <td>-0.260648</td>\n",
              "      <td>-0.469648</td>\n",
              "      <td>2.496266</td>\n",
              "      <td>-0.083724</td>\n",
              "      <td>0.129681</td>\n",
              "      <td>0.732898</td>\n",
              "      <td>0.519014</td>\n",
              "      <td>-0.130006</td>\n",
              "      <td>0.727159</td>\n",
              "      <td>...</td>\n",
              "      <td>-0.110552</td>\n",
              "      <td>0.217606</td>\n",
              "      <td>-0.134794</td>\n",
              "      <td>0.165959</td>\n",
              "      <td>0.126280</td>\n",
              "      <td>-0.434824</td>\n",
              "      <td>-0.081230</td>\n",
              "      <td>-0.151045</td>\n",
              "      <td>17982.10</td>\n",
              "      <td>0</td>\n",
              "    </tr>\n",
              "    <tr>\n",
              "      <th>1</th>\n",
              "      <td>1</td>\n",
              "      <td>0.985100</td>\n",
              "      <td>-0.356045</td>\n",
              "      <td>0.558056</td>\n",
              "      <td>-0.429654</td>\n",
              "      <td>0.277140</td>\n",
              "      <td>0.428605</td>\n",
              "      <td>0.406466</td>\n",
              "      <td>-0.133118</td>\n",
              "      <td>0.347452</td>\n",
              "      <td>...</td>\n",
              "      <td>-0.194936</td>\n",
              "      <td>-0.605761</td>\n",
              "      <td>0.079469</td>\n",
              "      <td>-0.577395</td>\n",
              "      <td>0.190090</td>\n",
              "      <td>0.296503</td>\n",
              "      <td>-0.248052</td>\n",
              "      <td>-0.064512</td>\n",
              "      <td>6531.37</td>\n",
              "      <td>0</td>\n",
              "    </tr>\n",
              "    <tr>\n",
              "      <th>2</th>\n",
              "      <td>2</td>\n",
              "      <td>-0.260272</td>\n",
              "      <td>-0.949385</td>\n",
              "      <td>1.728538</td>\n",
              "      <td>-0.457986</td>\n",
              "      <td>0.074062</td>\n",
              "      <td>1.419481</td>\n",
              "      <td>0.743511</td>\n",
              "      <td>-0.095576</td>\n",
              "      <td>-0.261297</td>\n",
              "      <td>...</td>\n",
              "      <td>-0.005020</td>\n",
              "      <td>0.702906</td>\n",
              "      <td>0.945045</td>\n",
              "      <td>-1.154666</td>\n",
              "      <td>-0.605564</td>\n",
              "      <td>-0.312895</td>\n",
              "      <td>-0.300258</td>\n",
              "      <td>-0.244718</td>\n",
              "      <td>2513.54</td>\n",
              "      <td>0</td>\n",
              "    </tr>\n",
              "    <tr>\n",
              "      <th>3</th>\n",
              "      <td>3</td>\n",
              "      <td>-0.152152</td>\n",
              "      <td>-0.508959</td>\n",
              "      <td>1.746840</td>\n",
              "      <td>-1.090178</td>\n",
              "      <td>0.249486</td>\n",
              "      <td>1.143312</td>\n",
              "      <td>0.518269</td>\n",
              "      <td>-0.065130</td>\n",
              "      <td>-0.205698</td>\n",
              "      <td>...</td>\n",
              "      <td>-0.146927</td>\n",
              "      <td>-0.038212</td>\n",
              "      <td>-0.214048</td>\n",
              "      <td>-1.893131</td>\n",
              "      <td>1.003963</td>\n",
              "      <td>-0.515950</td>\n",
              "      <td>-0.165316</td>\n",
              "      <td>0.048424</td>\n",
              "      <td>5384.44</td>\n",
              "      <td>0</td>\n",
              "    </tr>\n",
              "    <tr>\n",
              "      <th>4</th>\n",
              "      <td>4</td>\n",
              "      <td>-0.206820</td>\n",
              "      <td>-0.165280</td>\n",
              "      <td>1.527053</td>\n",
              "      <td>-0.448293</td>\n",
              "      <td>0.106125</td>\n",
              "      <td>0.530549</td>\n",
              "      <td>0.658849</td>\n",
              "      <td>-0.212660</td>\n",
              "      <td>1.049921</td>\n",
              "      <td>...</td>\n",
              "      <td>-0.106984</td>\n",
              "      <td>0.729727</td>\n",
              "      <td>-0.161666</td>\n",
              "      <td>0.312561</td>\n",
              "      <td>-0.414116</td>\n",
              "      <td>1.071126</td>\n",
              "      <td>0.023712</td>\n",
              "      <td>0.419117</td>\n",
              "      <td>14278.97</td>\n",
              "      <td>0</td>\n",
              "    </tr>\n",
              "  </tbody>\n",
              "</table>\n",
              "<p>5 rows × 31 columns</p>\n",
              "</div>\n",
              "    <div class=\"colab-df-buttons\">\n",
              "\n",
              "  <div class=\"colab-df-container\">\n",
              "    <button class=\"colab-df-convert\" onclick=\"convertToInteractive('df-8bff790f-ee94-4049-a1d4-d69cf3af2a30')\"\n",
              "            title=\"Convert this dataframe to an interactive table.\"\n",
              "            style=\"display:none;\">\n",
              "\n",
              "  <svg xmlns=\"http://www.w3.org/2000/svg\" height=\"24px\" viewBox=\"0 -960 960 960\">\n",
              "    <path d=\"M120-120v-720h720v720H120Zm60-500h600v-160H180v160Zm220 220h160v-160H400v160Zm0 220h160v-160H400v160ZM180-400h160v-160H180v160Zm440 0h160v-160H620v160ZM180-180h160v-160H180v160Zm440 0h160v-160H620v160Z\"/>\n",
              "  </svg>\n",
              "    </button>\n",
              "\n",
              "  <style>\n",
              "    .colab-df-container {\n",
              "      display:flex;\n",
              "      gap: 12px;\n",
              "    }\n",
              "\n",
              "    .colab-df-convert {\n",
              "      background-color: #E8F0FE;\n",
              "      border: none;\n",
              "      border-radius: 50%;\n",
              "      cursor: pointer;\n",
              "      display: none;\n",
              "      fill: #1967D2;\n",
              "      height: 32px;\n",
              "      padding: 0 0 0 0;\n",
              "      width: 32px;\n",
              "    }\n",
              "\n",
              "    .colab-df-convert:hover {\n",
              "      background-color: #E2EBFA;\n",
              "      box-shadow: 0px 1px 2px rgba(60, 64, 67, 0.3), 0px 1px 3px 1px rgba(60, 64, 67, 0.15);\n",
              "      fill: #174EA6;\n",
              "    }\n",
              "\n",
              "    .colab-df-buttons div {\n",
              "      margin-bottom: 4px;\n",
              "    }\n",
              "\n",
              "    [theme=dark] .colab-df-convert {\n",
              "      background-color: #3B4455;\n",
              "      fill: #D2E3FC;\n",
              "    }\n",
              "\n",
              "    [theme=dark] .colab-df-convert:hover {\n",
              "      background-color: #434B5C;\n",
              "      box-shadow: 0px 1px 3px 1px rgba(0, 0, 0, 0.15);\n",
              "      filter: drop-shadow(0px 1px 2px rgba(0, 0, 0, 0.3));\n",
              "      fill: #FFFFFF;\n",
              "    }\n",
              "  </style>\n",
              "\n",
              "    <script>\n",
              "      const buttonEl =\n",
              "        document.querySelector('#df-8bff790f-ee94-4049-a1d4-d69cf3af2a30 button.colab-df-convert');\n",
              "      buttonEl.style.display =\n",
              "        google.colab.kernel.accessAllowed ? 'block' : 'none';\n",
              "\n",
              "      async function convertToInteractive(key) {\n",
              "        const element = document.querySelector('#df-8bff790f-ee94-4049-a1d4-d69cf3af2a30');\n",
              "        const dataTable =\n",
              "          await google.colab.kernel.invokeFunction('convertToInteractive',\n",
              "                                                    [key], {});\n",
              "        if (!dataTable) return;\n",
              "\n",
              "        const docLinkHtml = 'Like what you see? Visit the ' +\n",
              "          '<a target=\"_blank\" href=https://colab.research.google.com/notebooks/data_table.ipynb>data table notebook</a>'\n",
              "          + ' to learn more about interactive tables.';\n",
              "        element.innerHTML = '';\n",
              "        dataTable['output_type'] = 'display_data';\n",
              "        await google.colab.output.renderOutput(dataTable, element);\n",
              "        const docLink = document.createElement('div');\n",
              "        docLink.innerHTML = docLinkHtml;\n",
              "        element.appendChild(docLink);\n",
              "      }\n",
              "    </script>\n",
              "  </div>\n",
              "\n",
              "\n",
              "<div id=\"df-2b8cae5d-b2c8-404a-be0c-09c90b9c97ac\">\n",
              "  <button class=\"colab-df-quickchart\" onclick=\"quickchart('df-2b8cae5d-b2c8-404a-be0c-09c90b9c97ac')\"\n",
              "            title=\"Suggest charts\"\n",
              "            style=\"display:none;\">\n",
              "\n",
              "<svg xmlns=\"http://www.w3.org/2000/svg\" height=\"24px\"viewBox=\"0 0 24 24\"\n",
              "     width=\"24px\">\n",
              "    <g>\n",
              "        <path d=\"M19 3H5c-1.1 0-2 .9-2 2v14c0 1.1.9 2 2 2h14c1.1 0 2-.9 2-2V5c0-1.1-.9-2-2-2zM9 17H7v-7h2v7zm4 0h-2V7h2v10zm4 0h-2v-4h2v4z\"/>\n",
              "    </g>\n",
              "</svg>\n",
              "  </button>\n",
              "\n",
              "<style>\n",
              "  .colab-df-quickchart {\n",
              "      --bg-color: #E8F0FE;\n",
              "      --fill-color: #1967D2;\n",
              "      --hover-bg-color: #E2EBFA;\n",
              "      --hover-fill-color: #174EA6;\n",
              "      --disabled-fill-color: #AAA;\n",
              "      --disabled-bg-color: #DDD;\n",
              "  }\n",
              "\n",
              "  [theme=dark] .colab-df-quickchart {\n",
              "      --bg-color: #3B4455;\n",
              "      --fill-color: #D2E3FC;\n",
              "      --hover-bg-color: #434B5C;\n",
              "      --hover-fill-color: #FFFFFF;\n",
              "      --disabled-bg-color: #3B4455;\n",
              "      --disabled-fill-color: #666;\n",
              "  }\n",
              "\n",
              "  .colab-df-quickchart {\n",
              "    background-color: var(--bg-color);\n",
              "    border: none;\n",
              "    border-radius: 50%;\n",
              "    cursor: pointer;\n",
              "    display: none;\n",
              "    fill: var(--fill-color);\n",
              "    height: 32px;\n",
              "    padding: 0;\n",
              "    width: 32px;\n",
              "  }\n",
              "\n",
              "  .colab-df-quickchart:hover {\n",
              "    background-color: var(--hover-bg-color);\n",
              "    box-shadow: 0 1px 2px rgba(60, 64, 67, 0.3), 0 1px 3px 1px rgba(60, 64, 67, 0.15);\n",
              "    fill: var(--button-hover-fill-color);\n",
              "  }\n",
              "\n",
              "  .colab-df-quickchart-complete:disabled,\n",
              "  .colab-df-quickchart-complete:disabled:hover {\n",
              "    background-color: var(--disabled-bg-color);\n",
              "    fill: var(--disabled-fill-color);\n",
              "    box-shadow: none;\n",
              "  }\n",
              "\n",
              "  .colab-df-spinner {\n",
              "    border: 2px solid var(--fill-color);\n",
              "    border-color: transparent;\n",
              "    border-bottom-color: var(--fill-color);\n",
              "    animation:\n",
              "      spin 1s steps(1) infinite;\n",
              "  }\n",
              "\n",
              "  @keyframes spin {\n",
              "    0% {\n",
              "      border-color: transparent;\n",
              "      border-bottom-color: var(--fill-color);\n",
              "      border-left-color: var(--fill-color);\n",
              "    }\n",
              "    20% {\n",
              "      border-color: transparent;\n",
              "      border-left-color: var(--fill-color);\n",
              "      border-top-color: var(--fill-color);\n",
              "    }\n",
              "    30% {\n",
              "      border-color: transparent;\n",
              "      border-left-color: var(--fill-color);\n",
              "      border-top-color: var(--fill-color);\n",
              "      border-right-color: var(--fill-color);\n",
              "    }\n",
              "    40% {\n",
              "      border-color: transparent;\n",
              "      border-right-color: var(--fill-color);\n",
              "      border-top-color: var(--fill-color);\n",
              "    }\n",
              "    60% {\n",
              "      border-color: transparent;\n",
              "      border-right-color: var(--fill-color);\n",
              "    }\n",
              "    80% {\n",
              "      border-color: transparent;\n",
              "      border-right-color: var(--fill-color);\n",
              "      border-bottom-color: var(--fill-color);\n",
              "    }\n",
              "    90% {\n",
              "      border-color: transparent;\n",
              "      border-bottom-color: var(--fill-color);\n",
              "    }\n",
              "  }\n",
              "</style>\n",
              "\n",
              "  <script>\n",
              "    async function quickchart(key) {\n",
              "      const quickchartButtonEl =\n",
              "        document.querySelector('#' + key + ' button');\n",
              "      quickchartButtonEl.disabled = true;  // To prevent multiple clicks.\n",
              "      quickchartButtonEl.classList.add('colab-df-spinner');\n",
              "      try {\n",
              "        const charts = await google.colab.kernel.invokeFunction(\n",
              "            'suggestCharts', [key], {});\n",
              "      } catch (error) {\n",
              "        console.error('Error during call to suggestCharts:', error);\n",
              "      }\n",
              "      quickchartButtonEl.classList.remove('colab-df-spinner');\n",
              "      quickchartButtonEl.classList.add('colab-df-quickchart-complete');\n",
              "    }\n",
              "    (() => {\n",
              "      let quickchartButtonEl =\n",
              "        document.querySelector('#df-2b8cae5d-b2c8-404a-be0c-09c90b9c97ac button');\n",
              "      quickchartButtonEl.style.display =\n",
              "        google.colab.kernel.accessAllowed ? 'block' : 'none';\n",
              "    })();\n",
              "  </script>\n",
              "</div>\n",
              "    </div>\n",
              "  </div>\n"
            ]
          },
          "metadata": {},
          "execution_count": 2
        }
      ]
    },
    {
      "cell_type": "code",
      "source": [
        "##### Further Data Exploration\n",
        "(ggplot(credit, aes(x = \"V13\")) + geom_histogram() +\n",
        " ggtitle(\"V13 Histogram\") +\n",
        " labs(x = \"V13 Value\", y = \"Count\"))\n"
      ],
      "metadata": {
        "colab": {
          "base_uri": "https://localhost:8080/",
          "height": 532
        },
        "id": "RlENyyHPCK-f",
        "outputId": "ae1d403c-2926-4e64-d31f-33fe0aec3af2"
      },
      "execution_count": null,
      "outputs": [
        {
          "output_type": "stream",
          "name": "stderr",
          "text": [
            "/usr/local/lib/python3.10/dist-packages/plotnine/stats/stat_bin.py:109: PlotnineWarning: 'stat_bin()' using 'bins = 394'. Pick better value with 'binwidth'.\n"
          ]
        },
        {
          "output_type": "display_data",
          "data": {
            "text/plain": [
              "<Figure size 640x480 with 1 Axes>"
            ],
            "image/png": "[encoded data removed]"
          },
          "metadata": {
            "image/png": {
              "width": 640,
              "height": 480
            }
          }
        },
        {
          "output_type": "execute_result",
          "data": {
            "text/plain": [
              "<Figure Size: (640 x 480)>"
            ]
          },
          "metadata": {},
          "execution_count": 6
        }
      ]
    },
    {
      "cell_type": "code",
      "source": [
        "##### Further Data Exploration\n",
        "(ggplot(credit, aes(x = \"V1\")) + geom_histogram() +\n",
        " ggtitle(\"V1 Histogram\") +\n",
        " labs(x = \"V1 Value\", y = \"Count\"))\n"
      ],
      "metadata": {
        "colab": {
          "base_uri": "https://localhost:8080/",
          "height": 532
        },
        "id": "hQ6hAAUm2eXK",
        "outputId": "7c685ec1-396a-4ccd-9863-5499d8c4782a"
      },
      "execution_count": null,
      "outputs": [
        {
          "output_type": "stream",
          "name": "stderr",
          "text": [
            "/usr/local/lib/python3.10/dist-packages/plotnine/stats/stat_bin.py:109: PlotnineWarning: 'stat_bin()' using 'bins = 170'. Pick better value with 'binwidth'.\n"
          ]
        },
        {
          "output_type": "display_data",
          "data": {
            "text/plain": [
              "<Figure size 640x480 with 1 Axes>"
            ],
            "image/png": "[encoded data removed]"
          },
          "metadata": {
            "image/png": {
              "width": 640,
              "height": 480
            }
          }
        },
        {
          "output_type": "execute_result",
          "data": {
            "text/plain": [
              "<Figure Size: (640 x 480)>"
            ]
          },
          "metadata": {},
          "execution_count": 13
        }
      ]
    },
    {
      "cell_type": "code",
      "source": [
        "##### Check for Class Imbalance\n",
        "not_fraud = credit[\"Class\"] == 0\n",
        "fraud = credit[\"Class\"] == 1\n",
        "\n",
        "print(\"Number of Non-Fraudulent Cases:\", credit[\"Class\"].loc[not_fraud].count())\n",
        "print(\"Number of Fraudulent Cases:\", credit[\"Class\"].loc[fraud].count())\n"
      ],
      "metadata": {
        "colab": {
          "base_uri": "https://localhost:8080/"
        },
        "id": "zzb8EDBK2enM",
        "outputId": "c596c259-3a6c-4de0-eec4-fe0cb638a9d5"
      },
      "execution_count": null,
      "outputs": [
        {
          "output_type": "stream",
          "name": "stdout",
          "text": [
            "Number of Non-Fraudulent Cases: 284315\n",
            "Number of Fraudulent Cases: 284315\n"
          ]
        }
      ]
    },
    {
      "cell_type": "code",
      "source": [
        "##### Check if Values are Normally Distributed\n",
        "credit.describe()\n"
      ],
      "metadata": {
        "colab": {
          "base_uri": "https://localhost:8080/",
          "height": 384
        },
        "id": "5KuqLNqT2hs-",
        "outputId": "7c0e74a4-ee1f-429b-fc9f-25834bb3dd4c"
      },
      "execution_count": null,
      "outputs": [
        {
          "output_type": "execute_result",
          "data": {
            "text/plain": [
              "                  id            V1            V2            V3            V4  \\\n",
              "count  568630.000000  5.686300e+05  5.686300e+05  5.686300e+05  5.686300e+05   \n",
              "mean   284314.500000 -5.638058e-17 -1.319545e-16 -3.518788e-17 -2.879008e-17   \n",
              "std    164149.486122  1.000001e+00  1.000001e+00  1.000001e+00  1.000001e+00   \n",
              "min         0.000000 -3.495584e+00 -4.996657e+01 -3.183760e+00 -4.951222e+00   \n",
              "25%    142157.250000 -5.652859e-01 -4.866777e-01 -6.492987e-01 -6.560203e-01   \n",
              "50%    284314.500000 -9.363846e-02 -1.358939e-01  3.528579e-04 -7.376152e-02   \n",
              "75%    426471.750000  8.326582e-01  3.435552e-01  6.285380e-01  7.070047e-01   \n",
              "max    568629.000000  2.229046e+00  4.361865e+00  1.412583e+01  3.201536e+00   \n",
              "\n",
              "                 V5            V6            V7            V8            V9  \\\n",
              "count  5.686300e+05  5.686300e+05  5.686300e+05  5.686300e+05  5.686300e+05   \n",
              "mean   7.997245e-18 -3.958636e-17 -3.198898e-17  2.109273e-17  3.998623e-17   \n",
              "std    1.000001e+00  1.000001e+00  1.000001e+00  1.000001e+00  1.000001e+00   \n",
              "min   -9.952786e+00 -2.111111e+01 -4.351839e+00 -1.075634e+01 -3.751919e+00   \n",
              "25%   -2.934955e-01 -4.458712e-01 -2.835329e-01 -1.922572e-01 -5.687446e-01   \n",
              "50%    8.108788e-02  7.871758e-02  2.333659e-01 -1.145242e-01  9.252647e-02   \n",
              "75%    4.397368e-01  4.977881e-01  5.259548e-01  4.729905e-02  5.592621e-01   \n",
              "max    4.271689e+01  2.616840e+01  2.178730e+02  5.958040e+00  2.027006e+01   \n",
              "\n",
              "       ...           V21           V22           V23           V24  \\\n",
              "count  ...  5.686300e+05  5.686300e+05  5.686300e+05  5.686300e+05   \n",
              "mean   ...  4.758361e-17  3.948640e-18  6.194741e-18 -2.799036e-18   \n",
              "std    ...  1.000001e+00  1.000001e+00  1.000001e+00  1.000001e+00   \n",
              "min    ... -1.938252e+01 -7.734798e+00 -3.029545e+01 -4.067968e+00   \n",
              "25%    ... -1.664408e-01 -4.904892e-01 -2.376289e-01 -6.515801e-01   \n",
              "50%    ... -3.743065e-02 -2.732881e-02 -5.968903e-02  1.590123e-02   \n",
              "75%    ...  1.479787e-01  4.638817e-01  1.557153e-01  7.007374e-01   \n",
              "max    ...  8.087080e+00  1.263251e+01  3.170763e+01  1.296564e+01   \n",
              "\n",
              "                V25           V26           V27           V28         Amount  \\\n",
              "count  5.686300e+05  5.686300e+05  5.686300e+05  5.686300e+05  568630.000000   \n",
              "mean  -3.178905e-17 -7.497417e-18 -3.598760e-17  2.609101e-17   12041.957635   \n",
              "std    1.000001e+00  1.000001e+00  1.000001e+00  1.000001e+00    6919.644449   \n",
              "min   -1.361263e+01 -8.226969e+00 -1.049863e+01 -3.903524e+01      50.010000   \n",
              "25%   -5.541485e-01 -6.318948e-01 -3.049607e-01 -2.318783e-01    6054.892500   \n",
              "50%   -8.193162e-03 -1.189208e-02 -1.729111e-01 -1.392973e-02   12030.150000   \n",
              "75%    5.500147e-01  6.728879e-01  3.340230e-01  4.095903e-01   18036.330000   \n",
              "max    1.462151e+01  5.623285e+00  1.132311e+02  7.725594e+01   24039.930000   \n",
              "\n",
              "          Class  \n",
              "count  568630.0  \n",
              "mean        0.5  \n",
              "std         0.5  \n",
              "min         0.0  \n",
              "25%         0.0  \n",
              "50%         0.5  \n",
              "75%         1.0  \n",
              "max         1.0  \n",
              "\n",
              "[8 rows x 31 columns]"
            ],
            "text/html": [
              "\n",
              "  <div id=\"df-e160024c-aa5e-43e5-b912-41aa640147c0\" class=\"colab-df-container\">\n",
              "    <div>\n",
              "<style scoped>\n",
              "    .dataframe tbody tr th:only-of-type {\n",
              "        vertical-align: middle;\n",
              "    }\n",
              "\n",
              "    .dataframe tbody tr th {\n",
              "        vertical-align: top;\n",
              "    }\n",
              "\n",
              "    .dataframe thead th {\n",
              "        text-align: right;\n",
              "    }\n",
              "</style>\n",
              "<table border=\"1\" class=\"dataframe\">\n",
              "  <thead>\n",
              "    <tr style=\"text-align: right;\">\n",
              "      <th></th>\n",
              "      <th>id</th>\n",
              "      <th>V1</th>\n",
              "      <th>V2</th>\n",
              "      <th>V3</th>\n",
              "      <th>V4</th>\n",
              "      <th>V5</th>\n",
              "      <th>V6</th>\n",
              "      <th>V7</th>\n",
              "      <th>V8</th>\n",
              "      <th>V9</th>\n",
              "      <th>...</th>\n",
              "      <th>V21</th>\n",
              "      <th>V22</th>\n",
              "      <th>V23</th>\n",
              "      <th>V24</th>\n",
              "      <th>V25</th>\n",
              "      <th>V26</th>\n",
              "      <th>V27</th>\n",
              "      <th>V28</th>\n",
              "      <th>Amount</th>\n",
              "      <th>Class</th>\n",
              "    </tr>\n",
              "  </thead>\n",
              "  <tbody>\n",
              "    <tr>\n",
              "      <th>count</th>\n",
              "      <td>568630.000000</td>\n",
              "      <td>5.686300e+05</td>\n",
              "      <td>5.686300e+05</td>\n",
              "      <td>5.686300e+05</td>\n",
              "      <td>5.686300e+05</td>\n",
              "      <td>5.686300e+05</td>\n",
              "      <td>5.686300e+05</td>\n",
              "      <td>5.686300e+05</td>\n",
              "      <td>5.686300e+05</td>\n",
              "      <td>5.686300e+05</td>\n",
              "      <td>...</td>\n",
              "      <td>5.686300e+05</td>\n",
              "      <td>5.686300e+05</td>\n",
              "      <td>5.686300e+05</td>\n",
              "      <td>5.686300e+05</td>\n",
              "      <td>5.686300e+05</td>\n",
              "      <td>5.686300e+05</td>\n",
              "      <td>5.686300e+05</td>\n",
              "      <td>5.686300e+05</td>\n",
              "      <td>568630.000000</td>\n",
              "      <td>568630.0</td>\n",
              "    </tr>\n",
              "    <tr>\n",
              "      <th>mean</th>\n",
              "      <td>284314.500000</td>\n",
              "      <td>-5.638058e-17</td>\n",
              "      <td>-1.319545e-16</td>\n",
              "      <td>-3.518788e-17</td>\n",
              "      <td>-2.879008e-17</td>\n",
              "      <td>7.997245e-18</td>\n",
              "      <td>-3.958636e-17</td>\n",
              "      <td>-3.198898e-17</td>\n",
              "      <td>2.109273e-17</td>\n",
              "      <td>3.998623e-17</td>\n",
              "      <td>...</td>\n",
              "      <td>4.758361e-17</td>\n",
              "      <td>3.948640e-18</td>\n",
              "      <td>6.194741e-18</td>\n",
              "      <td>-2.799036e-18</td>\n",
              "      <td>-3.178905e-17</td>\n",
              "      <td>-7.497417e-18</td>\n",
              "      <td>-3.598760e-17</td>\n",
              "      <td>2.609101e-17</td>\n",
              "      <td>12041.957635</td>\n",
              "      <td>0.5</td>\n",
              "    </tr>\n",
              "    <tr>\n",
              "      <th>std</th>\n",
              "      <td>164149.486122</td>\n",
              "      <td>1.000001e+00</td>\n",
              "      <td>1.000001e+00</td>\n",
              "      <td>1.000001e+00</td>\n",
              "      <td>1.000001e+00</td>\n",
              "      <td>1.000001e+00</td>\n",
              "      <td>1.000001e+00</td>\n",
              "      <td>1.000001e+00</td>\n",
              "      <td>1.000001e+00</td>\n",
              "      <td>1.000001e+00</td>\n",
              "      <td>...</td>\n",
              "      <td>1.000001e+00</td>\n",
              "      <td>1.000001e+00</td>\n",
              "      <td>1.000001e+00</td>\n",
              "      <td>1.000001e+00</td>\n",
              "      <td>1.000001e+00</td>\n",
              "      <td>1.000001e+00</td>\n",
              "      <td>1.000001e+00</td>\n",
              "      <td>1.000001e+00</td>\n",
              "      <td>6919.644449</td>\n",
              "      <td>0.5</td>\n",
              "    </tr>\n",
              "    <tr>\n",
              "      <th>min</th>\n",
              "      <td>0.000000</td>\n",
              "      <td>-3.495584e+00</td>\n",
              "      <td>-4.996657e+01</td>\n",
              "      <td>-3.183760e+00</td>\n",
              "      <td>-4.951222e+00</td>\n",
              "      <td>-9.952786e+00</td>\n",
              "      <td>-2.111111e+01</td>\n",
              "      <td>-4.351839e+00</td>\n",
              "      <td>-1.075634e+01</td>\n",
              "      <td>-3.751919e+00</td>\n",
              "      <td>...</td>\n",
              "      <td>-1.938252e+01</td>\n",
              "      <td>-7.734798e+00</td>\n",
              "      <td>-3.029545e+01</td>\n",
              "      <td>-4.067968e+00</td>\n",
              "      <td>-1.361263e+01</td>\n",
              "      <td>-8.226969e+00</td>\n",
              "      <td>-1.049863e+01</td>\n",
              "      <td>-3.903524e+01</td>\n",
              "      <td>50.010000</td>\n",
              "      <td>0.0</td>\n",
              "    </tr>\n",
              "    <tr>\n",
              "      <th>25%</th>\n",
              "      <td>142157.250000</td>\n",
              "      <td>-5.652859e-01</td>\n",
              "      <td>-4.866777e-01</td>\n",
              "      <td>-6.492987e-01</td>\n",
              "      <td>-6.560203e-01</td>\n",
              "      <td>-2.934955e-01</td>\n",
              "      <td>-4.458712e-01</td>\n",
              "      <td>-2.835329e-01</td>\n",
              "      <td>-1.922572e-01</td>\n",
              "      <td>-5.687446e-01</td>\n",
              "      <td>...</td>\n",
              "      <td>-1.664408e-01</td>\n",
              "      <td>-4.904892e-01</td>\n",
              "      <td>-2.376289e-01</td>\n",
              "      <td>-6.515801e-01</td>\n",
              "      <td>-5.541485e-01</td>\n",
              "      <td>-6.318948e-01</td>\n",
              "      <td>-3.049607e-01</td>\n",
              "      <td>-2.318783e-01</td>\n",
              "      <td>6054.892500</td>\n",
              "      <td>0.0</td>\n",
              "    </tr>\n",
              "    <tr>\n",
              "      <th>50%</th>\n",
              "      <td>284314.500000</td>\n",
              "      <td>-9.363846e-02</td>\n",
              "      <td>-1.358939e-01</td>\n",
              "      <td>3.528579e-04</td>\n",
              "      <td>-7.376152e-02</td>\n",
              "      <td>8.108788e-02</td>\n",
              "      <td>7.871758e-02</td>\n",
              "      <td>2.333659e-01</td>\n",
              "      <td>-1.145242e-01</td>\n",
              "      <td>9.252647e-02</td>\n",
              "      <td>...</td>\n",
              "      <td>-3.743065e-02</td>\n",
              "      <td>-2.732881e-02</td>\n",
              "      <td>-5.968903e-02</td>\n",
              "      <td>1.590123e-02</td>\n",
              "      <td>-8.193162e-03</td>\n",
              "      <td>-1.189208e-02</td>\n",
              "      <td>-1.729111e-01</td>\n",
              "      <td>-1.392973e-02</td>\n",
              "      <td>12030.150000</td>\n",
              "      <td>0.5</td>\n",
              "    </tr>\n",
              "    <tr>\n",
              "      <th>75%</th>\n",
              "      <td>426471.750000</td>\n",
              "      <td>8.326582e-01</td>\n",
              "      <td>3.435552e-01</td>\n",
              "      <td>6.285380e-01</td>\n",
              "      <td>7.070047e-01</td>\n",
              "      <td>4.397368e-01</td>\n",
              "      <td>4.977881e-01</td>\n",
              "      <td>5.259548e-01</td>\n",
              "      <td>4.729905e-02</td>\n",
              "      <td>5.592621e-01</td>\n",
              "      <td>...</td>\n",
              "      <td>1.479787e-01</td>\n",
              "      <td>4.638817e-01</td>\n",
              "      <td>1.557153e-01</td>\n",
              "      <td>7.007374e-01</td>\n",
              "      <td>5.500147e-01</td>\n",
              "      <td>6.728879e-01</td>\n",
              "      <td>3.340230e-01</td>\n",
              "      <td>4.095903e-01</td>\n",
              "      <td>18036.330000</td>\n",
              "      <td>1.0</td>\n",
              "    </tr>\n",
              "    <tr>\n",
              "      <th>max</th>\n",
              "      <td>568629.000000</td>\n",
              "      <td>2.229046e+00</td>\n",
              "      <td>4.361865e+00</td>\n",
              "      <td>1.412583e+01</td>\n",
              "      <td>3.201536e+00</td>\n",
              "      <td>4.271689e+01</td>\n",
              "      <td>2.616840e+01</td>\n",
              "      <td>2.178730e+02</td>\n",
              "      <td>5.958040e+00</td>\n",
              "      <td>2.027006e+01</td>\n",
              "      <td>...</td>\n",
              "      <td>8.087080e+00</td>\n",
              "      <td>1.263251e+01</td>\n",
              "      <td>3.170763e+01</td>\n",
              "      <td>1.296564e+01</td>\n",
              "      <td>1.462151e+01</td>\n",
              "      <td>5.623285e+00</td>\n",
              "      <td>1.132311e+02</td>\n",
              "      <td>7.725594e+01</td>\n",
              "      <td>24039.930000</td>\n",
              "      <td>1.0</td>\n",
              "    </tr>\n",
              "  </tbody>\n",
              "</table>\n",
              "<p>8 rows × 31 columns</p>\n",
              "</div>\n",
              "    <div class=\"colab-df-buttons\">\n",
              "\n",
              "  <div class=\"colab-df-container\">\n",
              "    <button class=\"colab-df-convert\" onclick=\"convertToInteractive('df-e160024c-aa5e-43e5-b912-41aa640147c0')\"\n",
              "            title=\"Convert this dataframe to an interactive table.\"\n",
              "            style=\"display:none;\">\n",
              "\n",
              "  <svg xmlns=\"http://www.w3.org/2000/svg\" height=\"24px\" viewBox=\"0 -960 960 960\">\n",
              "    <path d=\"M120-120v-720h720v720H120Zm60-500h600v-160H180v160Zm220 220h160v-160H400v160Zm0 220h160v-160H400v160ZM180-400h160v-160H180v160Zm440 0h160v-160H620v160ZM180-180h160v-160H180v160Zm440 0h160v-160H620v160Z\"/>\n",
              "  </svg>\n",
              "    </button>\n",
              "\n",
              "  <style>\n",
              "    .colab-df-container {\n",
              "      display:flex;\n",
              "      gap: 12px;\n",
              "    }\n",
              "\n",
              "    .colab-df-convert {\n",
              "      background-color: #E8F0FE;\n",
              "      border: none;\n",
              "      border-radius: 50%;\n",
              "      cursor: pointer;\n",
              "      display: none;\n",
              "      fill: #1967D2;\n",
              "      height: 32px;\n",
              "      padding: 0 0 0 0;\n",
              "      width: 32px;\n",
              "    }\n",
              "\n",
              "    .colab-df-convert:hover {\n",
              "      background-color: #E2EBFA;\n",
              "      box-shadow: 0px 1px 2px rgba(60, 64, 67, 0.3), 0px 1px 3px 1px rgba(60, 64, 67, 0.15);\n",
              "      fill: #174EA6;\n",
              "    }\n",
              "\n",
              "    .colab-df-buttons div {\n",
              "      margin-bottom: 4px;\n",
              "    }\n",
              "\n",
              "    [theme=dark] .colab-df-convert {\n",
              "      background-color: #3B4455;\n",
              "      fill: #D2E3FC;\n",
              "    }\n",
              "\n",
              "    [theme=dark] .colab-df-convert:hover {\n",
              "      background-color: #434B5C;\n",
              "      box-shadow: 0px 1px 3px 1px rgba(0, 0, 0, 0.15);\n",
              "      filter: drop-shadow(0px 1px 2px rgba(0, 0, 0, 0.3));\n",
              "      fill: #FFFFFF;\n",
              "    }\n",
              "  </style>\n",
              "\n",
              "    <script>\n",
              "      const buttonEl =\n",
              "        document.querySelector('#df-e160024c-aa5e-43e5-b912-41aa640147c0 button.colab-df-convert');\n",
              "      buttonEl.style.display =\n",
              "        google.colab.kernel.accessAllowed ? 'block' : 'none';\n",
              "\n",
              "      async function convertToInteractive(key) {\n",
              "        const element = document.querySelector('#df-e160024c-aa5e-43e5-b912-41aa640147c0');\n",
              "        const dataTable =\n",
              "          await google.colab.kernel.invokeFunction('convertToInteractive',\n",
              "                                                    [key], {});\n",
              "        if (!dataTable) return;\n",
              "\n",
              "        const docLinkHtml = 'Like what you see? Visit the ' +\n",
              "          '<a target=\"_blank\" href=https://colab.research.google.com/notebooks/data_table.ipynb>data table notebook</a>'\n",
              "          + ' to learn more about interactive tables.';\n",
              "        element.innerHTML = '';\n",
              "        dataTable['output_type'] = 'display_data';\n",
              "        await google.colab.output.renderOutput(dataTable, element);\n",
              "        const docLink = document.createElement('div');\n",
              "        docLink.innerHTML = docLinkHtml;\n",
              "        element.appendChild(docLink);\n",
              "      }\n",
              "    </script>\n",
              "  </div>\n",
              "\n",
              "\n",
              "<div id=\"df-bebd9621-bba2-4ad9-bd25-5bf10b79bcf8\">\n",
              "  <button class=\"colab-df-quickchart\" onclick=\"quickchart('df-bebd9621-bba2-4ad9-bd25-5bf10b79bcf8')\"\n",
              "            title=\"Suggest charts\"\n",
              "            style=\"display:none;\">\n",
              "\n",
              "<svg xmlns=\"http://www.w3.org/2000/svg\" height=\"24px\"viewBox=\"0 0 24 24\"\n",
              "     width=\"24px\">\n",
              "    <g>\n",
              "        <path d=\"M19 3H5c-1.1 0-2 .9-2 2v14c0 1.1.9 2 2 2h14c1.1 0 2-.9 2-2V5c0-1.1-.9-2-2-2zM9 17H7v-7h2v7zm4 0h-2V7h2v10zm4 0h-2v-4h2v4z\"/>\n",
              "    </g>\n",
              "</svg>\n",
              "  </button>\n",
              "\n",
              "<style>\n",
              "  .colab-df-quickchart {\n",
              "      --bg-color: #E8F0FE;\n",
              "      --fill-color: #1967D2;\n",
              "      --hover-bg-color: #E2EBFA;\n",
              "      --hover-fill-color: #174EA6;\n",
              "      --disabled-fill-color: #AAA;\n",
              "      --disabled-bg-color: #DDD;\n",
              "  }\n",
              "\n",
              "  [theme=dark] .colab-df-quickchart {\n",
              "      --bg-color: #3B4455;\n",
              "      --fill-color: #D2E3FC;\n",
              "      --hover-bg-color: #434B5C;\n",
              "      --hover-fill-color: #FFFFFF;\n",
              "      --disabled-bg-color: #3B4455;\n",
              "      --disabled-fill-color: #666;\n",
              "  }\n",
              "\n",
              "  .colab-df-quickchart {\n",
              "    background-color: var(--bg-color);\n",
              "    border: none;\n",
              "    border-radius: 50%;\n",
              "    cursor: pointer;\n",
              "    display: none;\n",
              "    fill: var(--fill-color);\n",
              "    height: 32px;\n",
              "    padding: 0;\n",
              "    width: 32px;\n",
              "  }\n",
              "\n",
              "  .colab-df-quickchart:hover {\n",
              "    background-color: var(--hover-bg-color);\n",
              "    box-shadow: 0 1px 2px rgba(60, 64, 67, 0.3), 0 1px 3px 1px rgba(60, 64, 67, 0.15);\n",
              "    fill: var(--button-hover-fill-color);\n",
              "  }\n",
              "\n",
              "  .colab-df-quickchart-complete:disabled,\n",
              "  .colab-df-quickchart-complete:disabled:hover {\n",
              "    background-color: var(--disabled-bg-color);\n",
              "    fill: var(--disabled-fill-color);\n",
              "    box-shadow: none;\n",
              "  }\n",
              "\n",
              "  .colab-df-spinner {\n",
              "    border: 2px solid var(--fill-color);\n",
              "    border-color: transparent;\n",
              "    border-bottom-color: var(--fill-color);\n",
              "    animation:\n",
              "      spin 1s steps(1) infinite;\n",
              "  }\n",
              "\n",
              "  @keyframes spin {\n",
              "    0% {\n",
              "      border-color: transparent;\n",
              "      border-bottom-color: var(--fill-color);\n",
              "      border-left-color: var(--fill-color);\n",
              "    }\n",
              "    20% {\n",
              "      border-color: transparent;\n",
              "      border-left-color: var(--fill-color);\n",
              "      border-top-color: var(--fill-color);\n",
              "    }\n",
              "    30% {\n",
              "      border-color: transparent;\n",
              "      border-left-color: var(--fill-color);\n",
              "      border-top-color: var(--fill-color);\n",
              "      border-right-color: var(--fill-color);\n",
              "    }\n",
              "    40% {\n",
              "      border-color: transparent;\n",
              "      border-right-color: var(--fill-color);\n",
              "      border-top-color: var(--fill-color);\n",
              "    }\n",
              "    60% {\n",
              "      border-color: transparent;\n",
              "      border-right-color: var(--fill-color);\n",
              "    }\n",
              "    80% {\n",
              "      border-color: transparent;\n",
              "      border-right-color: var(--fill-color);\n",
              "      border-bottom-color: var(--fill-color);\n",
              "    }\n",
              "    90% {\n",
              "      border-color: transparent;\n",
              "      border-bottom-color: var(--fill-color);\n",
              "    }\n",
              "  }\n",
              "</style>\n",
              "\n",
              "  <script>\n",
              "    async function quickchart(key) {\n",
              "      const quickchartButtonEl =\n",
              "        document.querySelector('#' + key + ' button');\n",
              "      quickchartButtonEl.disabled = true;  // To prevent multiple clicks.\n",
              "      quickchartButtonEl.classList.add('colab-df-spinner');\n",
              "      try {\n",
              "        const charts = await google.colab.kernel.invokeFunction(\n",
              "            'suggestCharts', [key], {});\n",
              "      } catch (error) {\n",
              "        console.error('Error during call to suggestCharts:', error);\n",
              "      }\n",
              "      quickchartButtonEl.classList.remove('colab-df-spinner');\n",
              "      quickchartButtonEl.classList.add('colab-df-quickchart-complete');\n",
              "    }\n",
              "    (() => {\n",
              "      let quickchartButtonEl =\n",
              "        document.querySelector('#df-bebd9621-bba2-4ad9-bd25-5bf10b79bcf8 button');\n",
              "      quickchartButtonEl.style.display =\n",
              "        google.colab.kernel.accessAllowed ? 'block' : 'none';\n",
              "    })();\n",
              "  </script>\n",
              "</div>\n",
              "    </div>\n",
              "  </div>\n"
            ]
          },
          "metadata": {},
          "execution_count": 14
        }
      ]
    },
    {
      "cell_type": "markdown",
      "source": [
        "Initial Preprocessing"
      ],
      "metadata": {
        "id": "dQBLuylswglw"
      }
    },
    {
      "cell_type": "code",
      "source": [
        "##### Preprocess and Split Data\n",
        "predictors = list(credit.columns)\n",
        "predictors.remove(\"id\")\n",
        "predictors.remove(\"Class\")\n",
        "\n",
        "X = credit[predictors]\n",
        "y = credit[\"Class\"]\n",
        "\n",
        "# 80/20 Train Test Split\n",
        "X_train, X_test, y_train, y_test = train_test_split(X, y, test_size = 0.2)\n",
        "\n",
        "# Z-Score\n",
        "z = StandardScaler()\n",
        "z.fit(X_train)\n",
        "\n",
        "X_train[predictors] = z.transform(X_train)\n",
        "X_test[predictors] = z.transform(X_test)\n",
        "\n",
        "# Split Train to Create Validation Data\n",
        "X_train, X_val, y_train, y_val = train_test_split(X_train, y_train, test_size = 0.25)\n"
      ],
      "metadata": {
        "id": "u_mOicDN8kVZ"
      },
      "execution_count": null,
      "outputs": []
    },
    {
      "cell_type": "markdown",
      "source": [
        "Logistic Regression Model for Comparasion"
      ],
      "metadata": {
        "id": "DjcUR64sAz6-"
      }
    },
    {
      "cell_type": "code",
      "source": [
        "##### Basic Logistic Regression Model for Comparasion\n",
        "myLogit = LogisticRegression()\n",
        "myLogit.fit(X_train, y_train)\n",
        "\n",
        "# Predictions\n",
        "predictedVals = myLogit.predict(X_test)\n",
        "predictedProbs = myLogit.predict_proba(X_test)\n"
      ],
      "metadata": {
        "id": "F3OX-iC68_Jf"
      },
      "execution_count": null,
      "outputs": []
    },
    {
      "cell_type": "code",
      "source": [
        "##### Performance Metrics\n",
        "print(\"Test Accuracy:\", accuracy_score(y_test, predictedVals))\n"
      ],
      "metadata": {
        "colab": {
          "base_uri": "https://localhost:8080/"
        },
        "id": "Bt4G7P-u9GME",
        "outputId": "ee08573d-4e62-42bc-9217-9e529b6795ea"
      },
      "execution_count": null,
      "outputs": [
        {
          "output_type": "stream",
          "name": "stdout",
          "text": [
            "Test Accuracy: 0.9645903311467914\n"
          ]
        }
      ]
    },
    {
      "cell_type": "code",
      "source": [
        "##### Convert Data to Tensors for Feed Foward Neural Network\n",
        "X_train = tf.convert_to_tensor(X_train)\n",
        "X_test = tf.convert_to_tensor(X_test)\n",
        "X_val = tf.convert_to_tensor(X_val)\n",
        "\n",
        "y_train = tf.convert_to_tensor(y_train)\n",
        "y_test = tf.convert_to_tensor(y_test)\n",
        "y_val = tf.convert_to_tensor(y_val)\n"
      ],
      "metadata": {
        "id": "E_UrVXJQ9j9q"
      },
      "execution_count": null,
      "outputs": []
    },
    {
      "cell_type": "markdown",
      "source": [
        "#First Feed Foward Neural Network(FFNN)"
      ],
      "metadata": {
        "id": "9lQfJGn6Aq7P"
      }
    },
    {
      "cell_type": "code",
      "source": [
        "##### First Unoptimized Binary Model\n",
        "first_model = keras.Sequential([\n",
        "    layers.Dense(16, activation = \"relu\"),\n",
        "    layers.Dense(16, activation = \"relu\"),\n",
        "    layers.Dense(1, activation = \"sigmoid\")\n",
        "])\n",
        "\n",
        "# Compile Model\n",
        "first_model.compile(optimizer = \"rmsprop\",\n",
        "              loss = \"binary_crossentropy\",\n",
        "              metrics = [\"accuracy\"])\n",
        "\n",
        "# Fit Model\n",
        "history = first_model.fit(X_train, y_train,\n",
        "                           epochs = 20,\n",
        "                           batch_size = 256,\n",
        "                           validation_data = (X_val, y_val))\n"
      ],
      "metadata": {
        "id": "mMq079pF9iRH"
      },
      "execution_count": null,
      "outputs": []
    },
    {
      "cell_type": "code",
      "source": [
        "##### Plot Training and Validation Loss\n",
        "history_dict = history.history\n",
        "loss_values = history_dict[\"loss\"]\n",
        "val_loss_values = history_dict[\"val_loss\"]\n",
        "epochs = range(1, len(loss_values) + 1)\n",
        "\n",
        "plt.plot(epochs, loss_values, \"bo\", label = \"Training Loss\")\n",
        "plt.plot(epochs, val_loss_values, \"b\", label = \"Validation Loss\")\n",
        "plt.title(\"Training and Validation Loss(First Model)\")\n",
        "plt.xlabel(\"Epochs\")\n",
        "plt.ylabel(\"Loss\")\n",
        "plt.legend()\n",
        "plt.show()\n"
      ],
      "metadata": {
        "colab": {
          "base_uri": "https://localhost:8080/",
          "height": 472
        },
        "id": "B4HluEI09zIw",
        "outputId": "f6de82e4-d666-4811-b89e-11675efb4aa4"
      },
      "execution_count": null,
      "outputs": [
        {
          "output_type": "display_data",
          "data": {
            "text/plain": [
              "<Figure size 640x480 with 1 Axes>"
            ],
            "image/png": "[encoded data removed]"
          },
          "metadata": {}
        }
      ]
    },
    {
      "cell_type": "code",
      "source": [
        "##### Plot Training and Validation Accuracy\n",
        "plt.clf()\n",
        "acc = history_dict[\"accuracy\"]\n",
        "val_acc = history_dict[\"val_accuracy\"]\n",
        "plt.plot(epochs, acc, \"bo\", label = \"Training Accuracy\")\n",
        "plt.plot(epochs, val_acc, \"b\", label = \"Validation Accuracy\")\n",
        "plt.title(\"Training and Validation Accuracy(First Model)\")\n",
        "plt.xlabel(\"Epochs\")\n",
        "plt.ylabel(\"Accuracy\")\n",
        "plt.legend()\n",
        "plt.show()\n"
      ],
      "metadata": {
        "id": "BUh2aXnm-nwk",
        "outputId": "faed5055-ff1d-4cd6-d787-d545fd30a9dc",
        "colab": {
          "base_uri": "https://localhost:8080/",
          "height": 472
        }
      },
      "execution_count": null,
      "outputs": [
        {
          "output_type": "display_data",
          "data": {
            "text/plain": [
              "<Figure size 640x480 with 1 Axes>"
            ],
            "image/png": "[encoded data removed]"
          },
          "metadata": {}
        }
      ]
    },
    {
      "cell_type": "code",
      "source": [
        "##### Performance Metrics\n",
        "results = first_model.evaluate(X_test, y_test, verbose = 0)\n",
        "\n",
        "# Print Loss and Accuracy\n",
        "print(\"Test Loss: %.3f\" % results[0])\n",
        "print(\"Test Accuracy: %.4f\" % results[1])\n"
      ],
      "metadata": {
        "colab": {
          "base_uri": "https://localhost:8080/"
        },
        "id": "g194rMAJmSxN",
        "outputId": "cf5c3951-a5fc-4443-a23c-ab8840bb0ce6"
      },
      "execution_count": null,
      "outputs": [
        {
          "output_type": "stream",
          "name": "stdout",
          "text": [
            "Test Loss: 0.009\n",
            "Test Accuracy: 0.9979\n"
          ]
        }
      ]
    },
    {
      "cell_type": "markdown",
      "source": [
        "# Second FFNN"
      ],
      "metadata": {
        "id": "ahg5u5JaBDjj"
      }
    },
    {
      "cell_type": "code",
      "source": [
        "##### Second Binary Model\n",
        "second_model = keras.Sequential([\n",
        "    layers.Dense(32, activation = \"relu\"),\n",
        "    layers.Dense(32, activation = \"relu\"),\n",
        "    layers.Dense(32, activation = \"relu\"),\n",
        "    layers.Dense(32, activation = \"relu\"),\n",
        "    layers.Dense(1, activation = \"sigmoid\")\n",
        "])\n",
        "\n",
        "# Compile Model\n",
        "second_model.compile(optimizer = \"adam\",\n",
        "              loss = \"binary_crossentropy\",\n",
        "              metrics = [\"accuracy\"])\n",
        "\n",
        "# Train Model\n",
        "history = second_model.fit(X_train, y_train,\n",
        "                           epochs = 25,\n",
        "                           batch_size = 256,\n",
        "                           validation_data = (X_val, y_val))\n"
      ],
      "metadata": {
        "id": "8zuyXyg-mGt9"
      },
      "execution_count": null,
      "outputs": []
    },
    {
      "cell_type": "code",
      "source": [
        "##### Plot Training and Validation Loss\n",
        "history_dict = history.history\n",
        "loss_values = history_dict[\"loss\"]\n",
        "val_loss_values = history_dict[\"val_loss\"]\n",
        "epochs = range(1, len(loss_values) + 1)\n",
        "\n",
        "plt.plot(epochs, loss_values, \"bo\", label = \"Training Loss\")\n",
        "plt.plot(epochs, val_loss_values, \"b\", label = \"Validation Loss\")\n",
        "plt.title(\"Training and Validation Loss(Second Model)\")\n",
        "plt.xlabel(\"Epochs\")\n",
        "plt.ylabel(\"Loss\")\n",
        "plt.legend()\n",
        "plt.show()\n"
      ],
      "metadata": {
        "colab": {
          "base_uri": "https://localhost:8080/",
          "height": 472
        },
        "id": "rXUchNgzKypR",
        "outputId": "b9c83537-1165-4e36-f9bd-332b867bbd3f"
      },
      "execution_count": null,
      "outputs": [
        {
          "output_type": "display_data",
          "data": {
            "text/plain": [
              "<Figure size 640x480 with 1 Axes>"
            ],
            "image/png": "[encoded data removed]"
          },
          "metadata": {}
        }
      ]
    },
    {
      "cell_type": "code",
      "source": [
        "##### Plot Training and Validation Accuracy\n",
        "plt.clf()\n",
        "acc = history_dict[\"accuracy\"]\n",
        "val_acc = history_dict[\"val_accuracy\"]\n",
        "plt.plot(epochs, acc, \"bo\", label=\"Training Accuracy\")\n",
        "plt.plot(epochs, val_acc, \"b\", label=\"Validation Accuracy\")\n",
        "plt.title(\"Training and Validation Accuracy(Second Model)\")\n",
        "plt.xlabel(\"Epochs\")\n",
        "plt.ylabel(\"Accuracy\")\n",
        "plt.legend()\n",
        "plt.show()\n"
      ],
      "metadata": {
        "colab": {
          "base_uri": "https://localhost:8080/",
          "height": 472
        },
        "id": "4elZ15JGK4rG",
        "outputId": "48702964-fcbf-4088-8ce5-a1a680ef074d"
      },
      "execution_count": null,
      "outputs": [
        {
          "output_type": "display_data",
          "data": {
            "text/plain": [
              "<Figure size 640x480 with 1 Axes>"
            ],
            "image/png": "[encoded data removed]"
          },
          "metadata": {}
        }
      ]
    },
    {
      "cell_type": "code",
      "source": [
        "##### Performance Metrics\n",
        "results = second_model.evaluate(X_test, y_test, verbose = 0)\n",
        "\n",
        "# Print Loss and Accuracy\n",
        "print(\"Test Loss: %.3f\" % results[0])\n",
        "print(\"Test Accuracy: %.4f\" % results[1])\n"
      ],
      "metadata": {
        "colab": {
          "base_uri": "https://localhost:8080/"
        },
        "id": "zh4oZkK8LB2T",
        "outputId": "51053e46-216d-468d-f4ff-052296a86ee9"
      },
      "execution_count": null,
      "outputs": [
        {
          "output_type": "stream",
          "name": "stdout",
          "text": [
            "Test Loss: 0.003\n",
            "Test Accuracy: 0.9992\n"
          ]
        }
      ]
    },
    {
      "cell_type": "markdown",
      "source": [
        "# Third FFNN"
      ],
      "metadata": {
        "id": "eND3d7ysRy0o"
      }
    },
    {
      "cell_type": "code",
      "source": [
        "##### Third Binary Model\n",
        "third_model = keras.Sequential([\n",
        "    layers.Dense(256, activation = \"relu\"),\n",
        "    layers.Dense(256, activation = \"relu\"),\n",
        "    layers.Dense(256, activation = \"relu\"),\n",
        "    layers.Dense(256, activation = \"relu\"),\n",
        "    layers.Dense(256, activation = \"relu\"),\n",
        "    layers.Dense(256, activation = \"relu\"),\n",
        "    layers.Dense(256, activation = \"relu\"),\n",
        "    layers.Dense(256, activation = \"relu\"),\n",
        "    layers.Dense(1, activation = \"sigmoid\")\n",
        "])\n",
        "\n",
        "# Compile Model\n",
        "third_model.compile(optimizer = \"adam\",\n",
        "              loss = \"binary_crossentropy\",\n",
        "              metrics = [\"accuracy\"])\n",
        "\n",
        "# Train Model\n",
        "history = third_model.fit(X_train, y_train,\n",
        "                           epochs = 20,\n",
        "                           batch_size = 512,\n",
        "                           validation_data = (X_val, y_val))\n"
      ],
      "metadata": {
        "id": "XT8woEo0RzIM"
      },
      "execution_count": null,
      "outputs": []
    },
    {
      "cell_type": "code",
      "source": [
        "##### Plot Training and Validation Loss\n",
        "history_dict = history.history\n",
        "loss_values = history_dict[\"loss\"]\n",
        "val_loss_values = history_dict[\"val_loss\"]\n",
        "epochs = range(1, len(loss_values) + 1)\n",
        "\n",
        "plt.plot(epochs, loss_values, \"bo\", label = \"Training Loss\")\n",
        "plt.plot(epochs, val_loss_values, \"b\", label = \"Validation Loss\")\n",
        "plt.title(\"Training and Validation Loss(Third Model)\")\n",
        "plt.xlabel(\"Epochs\")\n",
        "plt.ylabel(\"Loss\")\n",
        "plt.legend()\n",
        "plt.show()\n"
      ],
      "metadata": {
        "colab": {
          "base_uri": "https://localhost:8080/",
          "height": 472
        },
        "id": "lWJtQCnGRzbv",
        "outputId": "8beb1aac-ff84-4295-ed82-b7a7b35c5779"
      },
      "execution_count": null,
      "outputs": [
        {
          "output_type": "display_data",
          "data": {
            "text/plain": [
              "<Figure size 640x480 with 1 Axes>"
            ],
            "image/png": "[encoded data removed]"
          },
          "metadata": {}
        }
      ]
    },
    {
      "cell_type": "code",
      "source": [
        "##### Plot Training and Validation Accuracy\n",
        "plt.clf()\n",
        "acc = history_dict[\"accuracy\"]\n",
        "val_acc = history_dict[\"val_accuracy\"]\n",
        "plt.plot(epochs, acc, \"bo\", label=\"Training Accuracy\")\n",
        "plt.plot(epochs, val_acc, \"b\", label=\"Validation Accuracy\")\n",
        "plt.title(\"Training and Validation Accuracy(Third Model)\")\n",
        "plt.xlabel(\"Epochs\")\n",
        "plt.ylabel(\"Accuracy\")\n",
        "plt.legend()\n",
        "plt.show()\n"
      ],
      "metadata": {
        "colab": {
          "base_uri": "https://localhost:8080/",
          "height": 472
        },
        "id": "G-SBeklBRzsK",
        "outputId": "57d4f08d-b753-47be-b0a4-a070182e20d4"
      },
      "execution_count": null,
      "outputs": [
        {
          "output_type": "display_data",
          "data": {
            "text/plain": [
              "<Figure size 640x480 with 1 Axes>"
            ],
            "image/png": "[encoded data removed]"
          },
          "metadata": {}
        }
      ]
    },
    {
      "cell_type": "code",
      "source": [
        "##### Performance Metrics\n",
        "results = third_model.evaluate(X_test, y_test, verbose = 0)\n",
        "\n",
        "# Print Loss and Accuracy\n",
        "print(\"Test Loss: %.3f\" % results[0])\n",
        "print(\"Test Accuracy: %.4f\" % results[1])\n"
      ],
      "metadata": {
        "colab": {
          "base_uri": "https://localhost:8080/"
        },
        "id": "2Uh5US6PRz_7",
        "outputId": "ff30dee6-0ef8-4480-bf6e-d0873a021818"
      },
      "execution_count": null,
      "outputs": [
        {
          "output_type": "stream",
          "name": "stdout",
          "text": [
            "Test Loss: 0.002\n",
            "Test Accuracy: 0.9995\n"
          ]
        }
      ]
    },
    {
      "cell_type": "markdown",
      "source": [
        "# Final Model and Other Tests"
      ],
      "metadata": {
        "id": "5VM-GjH5Rq7N"
      }
    },
    {
      "cell_type": "code",
      "source": [
        "##### Final Binary Model\n",
        "final_model = keras.Sequential([\n",
        "    layers.Dense(32, activation = \"relu\"),\n",
        "    layers.Dense(32, activation = \"relu\"),\n",
        "    layers.Dense(32, activation = \"relu\"),\n",
        "    layers.Dense(1, activation = \"sigmoid\")\n",
        "])\n",
        "\n",
        "# Compile Model\n",
        "final_model.compile(optimizer = \"adam\",\n",
        "              loss = \"binary_crossentropy\",\n",
        "              metrics = [\"accuracy\"])\n",
        "\n",
        "# Train Model\n",
        "final_model.fit(X_train, y_train, epochs = 20,\n",
        "                batch_size = 512,\n",
        "                validation_data = (X_val, y_val))\n"
      ],
      "metadata": {
        "id": "RvnJWzCN3-lc"
      },
      "execution_count": null,
      "outputs": []
    },
    {
      "cell_type": "code",
      "source": [
        "##### Performance Metrics\n",
        "results = final_model.evaluate(X_test, y_test, verbose = 0)\n",
        "\n",
        "# Print Loss and Accuracy\n",
        "print(\"Test Loss: %.3f\" % results[0])\n",
        "print(\"Test Accuracy: %.4f\" % results[1])\n"
      ],
      "metadata": {
        "colab": {
          "base_uri": "https://localhost:8080/"
        },
        "id": "dBpfLwzQ3--1",
        "outputId": "a5790678-b2fd-4874-d551-7d1dc6ff3ef0"
      },
      "execution_count": null,
      "outputs": [
        {
          "output_type": "stream",
          "name": "stdout",
          "text": [
            "Test Loss: 0.002\n",
            "Test Accuracy: 0.9995\n"
          ]
        }
      ]
    },
    {
      "cell_type": "code",
      "source": [
        "##### Prediction Speed Test\n",
        "final_model.predict(X_test)\n"
      ],
      "metadata": {
        "colab": {
          "base_uri": "https://localhost:8080/"
        },
        "id": "mgRRPQmq4BOJ",
        "outputId": "f444e5ce-5d3b-48d9-855c-0e3a364a1c9e"
      },
      "execution_count": null,
      "outputs": [
        {
          "output_type": "stream",
          "name": "stdout",
          "text": [
            "3554/3554 [==============================] - 5s 2ms/step\n"
          ]
        },
        {
          "output_type": "execute_result",
          "data": {
            "text/plain": [
              "array([[9.613240e-38],\n",
              "       [9.997634e-01],\n",
              "       [7.848824e-15],\n",
              "       ...,\n",
              "       [9.993615e-01],\n",
              "       [9.999821e-01],\n",
              "       [1.814332e-32]], dtype=float32)"
            ]
          },
          "metadata": {},
          "execution_count": 61
        }
      ]
    },
    {
      "cell_type": "markdown",
      "source": [
        "Final Model with Regularization Applied"
      ],
      "metadata": {
        "id": "KLR3mpyS4SPH"
      }
    },
    {
      "cell_type": "code",
      "source": [
        "##### Final Binary Model with Regularization Applied(L1 + Dropout)\n",
        "final_model_reg = keras.Sequential([\n",
        "    layers.Dense(32, activation = \"relu\", kernel_regularizer = regularizers.L1(0.01)),\n",
        "    layers.Dropout(0.25),\n",
        "    layers.Dense(32, activation = \"relu\", kernel_regularizer = regularizers.L1(0.01)),\n",
        "    layers.Dropout(0.25),\n",
        "    layers.Dense(32, activation = \"relu\", kernel_regularizer = regularizers.L1(0.01)),\n",
        "    layers.Dense(1, activation = \"sigmoid\")\n",
        "])\n",
        "\n",
        "# Compile Model\n",
        "final_model_reg.compile(optimizer = \"adam\",\n",
        "              loss = \"binary_crossentropy\",\n",
        "              metrics = [\"accuracy\"])\n",
        "\n",
        "# Train Model\n",
        "final_model_reg.fit(X_train, y_train, epochs = 20,\n",
        "                batch_size = 512,\n",
        "                validation_data = (X_val, y_val))\n"
      ],
      "metadata": {
        "id": "VUODI526RxUB"
      },
      "execution_count": null,
      "outputs": []
    },
    {
      "cell_type": "code",
      "source": [
        "##### Performance Metrics\n",
        "results = final_model_reg.evaluate(X_test, y_test, verbose = 0)\n",
        "\n",
        "# Print Loss and Accuracy\n",
        "print(\"Test Loss: %.3f\" % results[0])\n",
        "print(\"Test Accuracy: %.4f\" % results[1])\n"
      ],
      "metadata": {
        "colab": {
          "base_uri": "https://localhost:8080/"
        },
        "id": "yn-s5BNYhqO9",
        "outputId": "762b33bb-790e-432c-adb2-5fe2dae77bce"
      },
      "execution_count": null,
      "outputs": [
        {
          "output_type": "stream",
          "name": "stdout",
          "text": [
            "Test Loss: 0.215\n",
            "Test Accuracy: 0.9605\n"
          ]
        }
      ]
    },
    {
      "cell_type": "code",
      "source": [
        "##### Prediction Speed Test\n",
        "final_model_reg.predict(X_test)\n"
      ],
      "metadata": {
        "colab": {
          "base_uri": "https://localhost:8080/"
        },
        "id": "De4L94iIiujH",
        "outputId": "cc805710-17db-4ff8-c6a3-20e7e36e38d3"
      },
      "execution_count": null,
      "outputs": [
        {
          "output_type": "stream",
          "name": "stdout",
          "text": [
            "3554/3554 [==============================] - 9s 3ms/step\n"
          ]
        },
        {
          "output_type": "execute_result",
          "data": {
            "text/plain": [
              "array([[0.00951509],\n",
              "       [0.9974761 ],\n",
              "       [0.05988359],\n",
              "       ...,\n",
              "       [0.9964382 ],\n",
              "       [0.99998313],\n",
              "       [0.00312823]], dtype=float32)"
            ]
          },
          "metadata": {},
          "execution_count": 54
        }
      ]
    },
    {
      "cell_type": "code",
      "source": [
        "##### Final Binary Model with Regularization Applied(L2 + Dropout)\n",
        "final_model_reg2 = keras.Sequential([\n",
        "    layers.Dense(32, activation = \"relu\", kernel_regularizer = regularizers.L2(0.01)),\n",
        "    layers.Dropout(0.25),\n",
        "    layers.Dense(32, activation = \"relu\", kernel_regularizer = regularizers.L2(0.01)),\n",
        "    layers.Dropout(0.25),\n",
        "    layers.Dense(32, activation = \"relu\", kernel_regularizer = regularizers.L2(0.01)),\n",
        "    layers.Dense(1, activation = \"sigmoid\")\n",
        "])\n",
        "\n",
        "# Compile Model\n",
        "final_model_reg2.compile(optimizer = \"adam\",\n",
        "              loss = \"binary_crossentropy\",\n",
        "              metrics = [\"accuracy\"])\n",
        "\n",
        "# Train Model\n",
        "final_model_reg2.fit(X_train, y_train, epochs = 20,\n",
        "                batch_size = 512,\n",
        "                validation_data = (X_val, y_val))\n"
      ],
      "metadata": {
        "id": "GTUWu7k5_D_x"
      },
      "execution_count": null,
      "outputs": []
    },
    {
      "cell_type": "code",
      "source": [
        "##### Performance Metrics\n",
        "results = final_model_reg2.evaluate(X_test, y_test, verbose = 0)\n",
        "\n",
        "# Print Loss and Accuracy\n",
        "print(\"Test Loss: %.3f\" % results[0])\n",
        "print(\"Test Accuracy: %.4f\" % results[1])\n"
      ],
      "metadata": {
        "colab": {
          "base_uri": "https://localhost:8080/"
        },
        "id": "w_vspdrM_EWW",
        "outputId": "e11a128a-ac01-4317-b789-f6d0e35b9cef"
      },
      "execution_count": null,
      "outputs": [
        {
          "output_type": "stream",
          "name": "stdout",
          "text": [
            "Test Loss: 0.079\n",
            "Test Accuracy: 0.9864\n"
          ]
        }
      ]
    },
    {
      "cell_type": "code",
      "source": [
        "##### Prediction Speed Test\n",
        "final_model_reg2.predict(X_test)\n"
      ],
      "metadata": {
        "colab": {
          "base_uri": "https://localhost:8080/"
        },
        "id": "8-DS1dEM_Es1",
        "outputId": "57aa1fc5-c283-458c-d8fc-0723f1c6b378"
      },
      "execution_count": null,
      "outputs": [
        {
          "output_type": "stream",
          "name": "stdout",
          "text": [
            "3554/3554 [==============================] - 8s 2ms/step\n"
          ]
        },
        {
          "output_type": "execute_result",
          "data": {
            "text/plain": [
              "array([[7.0215302e-04],\n",
              "       [9.9988085e-01],\n",
              "       [1.5818132e-02],\n",
              "       ...,\n",
              "       [9.9987042e-01],\n",
              "       [9.9999970e-01],\n",
              "       [2.7245904e-05]], dtype=float32)"
            ]
          },
          "metadata": {},
          "execution_count": 57
        }
      ]
    },
    {
      "cell_type": "code",
      "source": [
        "##### Final Binary Model with Regularization Applied(Dropout Only)\n",
        "final_model_reg3 = keras.Sequential([\n",
        "    layers.Dense(32, activation = \"relu\"),\n",
        "    layers.Dropout(0.25),\n",
        "    layers.Dense(32, activation = \"relu\"),\n",
        "    layers.Dropout(0.25),\n",
        "    layers.Dense(32, activation = \"relu\"),\n",
        "    layers.Dense(1, activation = \"sigmoid\")\n",
        "])\n",
        "\n",
        "# Compile Model\n",
        "final_model_reg3.compile(optimizer = \"adam\",\n",
        "              loss = \"binary_crossentropy\",\n",
        "              metrics = [\"accuracy\"])\n",
        "\n",
        "# Train Model\n",
        "final_model_reg3.fit(X_train, y_train, epochs = 20,\n",
        "                batch_size = 512,\n",
        "                validation_data = (X_val, y_val))\n"
      ],
      "metadata": {
        "id": "gYflezUv_ZOE"
      },
      "execution_count": null,
      "outputs": []
    },
    {
      "cell_type": "code",
      "source": [
        "##### Performance Metrics\n",
        "results = final_model_reg3.evaluate(X_test, y_test, verbose = 0)\n",
        "\n",
        "# Print Loss and Accuracy\n",
        "print(\"Test Loss: %.3f\" % results[0])\n",
        "print(\"Test Accuracy: %.4f\" % results[1])\n"
      ],
      "metadata": {
        "colab": {
          "base_uri": "https://localhost:8080/"
        },
        "id": "xQ-PLGrF_aAa",
        "outputId": "f9e1bf7b-bf89-4f76-c180-82daae72df99"
      },
      "execution_count": null,
      "outputs": [
        {
          "output_type": "stream",
          "name": "stdout",
          "text": [
            "Test Loss: 0.005\n",
            "Test Accuracy: 0.9991\n"
          ]
        }
      ]
    },
    {
      "cell_type": "code",
      "source": [
        "##### Prediction Speed Test\n",
        "final_model_reg3.predict(X_test)\n"
      ],
      "metadata": {
        "colab": {
          "base_uri": "https://localhost:8080/"
        },
        "id": "YeAaVqcU_aX5",
        "outputId": "d15bd49d-01d3-4128-beb5-6a31e16e773d"
      },
      "execution_count": null,
      "outputs": [
        {
          "output_type": "stream",
          "name": "stdout",
          "text": [
            "3554/3554 [==============================] - 7s 2ms/step\n"
          ]
        },
        {
          "output_type": "execute_result",
          "data": {
            "text/plain": [
              "array([[3.6131143e-20],\n",
              "       [9.9995846e-01],\n",
              "       [7.0411126e-09],\n",
              "       ...,\n",
              "       [9.9951363e-01],\n",
              "       [9.9998045e-01],\n",
              "       [0.0000000e+00]], dtype=float32)"
            ]
          },
          "metadata": {},
          "execution_count": 60
        }
      ]
    }
  ]
}